{
 "cells": [
  {
   "cell_type": "code",
   "execution_count": null,
   "metadata": {},
   "outputs": [],
   "source": [
    "import speech_recognition as sr\n",
    "import telebot\n",
    "bot = telebot.TeleBot('519802622:AAERN18WJLVog4eCLhl6lnB2htkJM8urV-4')\n",
    "import requests\n",
    "r = sr.Recognizer()"
   ]
  },
  {
   "cell_type": "code",
   "execution_count": null,
   "metadata": {},
   "outputs": [],
   "source": [
    "@bot.message_handler(content_types=['voice'])\n",
    "def voice_processing(message):\n",
    "    file_info = bot.get_file(message.voice.file_id)\n",
    "    downloaded_file = bot.download_file(file_info.file_path)\n",
    "    print (file_info)\n",
    "    with sr.AudioFile(file_info) as source:\n",
    "        audio = r.record(source)\n",
    "    \n",
    "bot.polling(none_stop=True)"
   ]
  },
  {
   "cell_type": "code",
   "execution_count": null,
   "metadata": {},
   "outputs": [],
   "source": [
    "try:\n",
    "     print(r.recognize_google(audio, language=\"ru-RU\"))\n",
    "except sr.UnknownValueError:\n",
    "    print(\"бот не расслышал фразу\")\n",
    "except sr.RequestError as e:\n",
    "    print(\"Ошибка сервиса; {}\".format(e))"
   ]
  },
  {
   "cell_type": "code",
   "execution_count": null,
   "metadata": {},
   "outputs": [],
   "source": [
    "r = sr.Recognizer()\n",
    "with sr.Microphone() as source:\n",
    "    print(\"Скажите что-нибудь\")\n",
    "    audio = r.listen(source)\n",
    "    print (audio)"
   ]
  },
  {
   "cell_type": "code",
   "execution_count": null,
   "metadata": {},
   "outputs": [],
   "source": [
    "print (audio.content)"
   ]
  },
  {
   "cell_type": "code",
   "execution_count": null,
   "metadata": {},
   "outputs": [],
   "source": []
  }
 ],
 "metadata": {
  "kernelspec": {
   "display_name": "Python 3",
   "language": "python",
   "name": "python3"
  },
  "language_info": {
   "codemirror_mode": {
    "name": "ipython",
    "version": 3
   },
   "file_extension": ".py",
   "mimetype": "text/x-python",
   "name": "python",
   "nbconvert_exporter": "python",
   "pygments_lexer": "ipython3",
   "version": "3.6.3"
  }
 },
 "nbformat": 4,
 "nbformat_minor": 2
}
