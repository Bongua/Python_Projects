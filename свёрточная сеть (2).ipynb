{
 "cells": [
  {
   "cell_type": "code",
   "execution_count": null,
   "metadata": {},
   "outputs": [],
   "source": [
    "time.sleep(5)\n",
    "for i in range (200):\n",
    "    img = ImageGrab.grab( (640, 407,1280, 673) )\n",
    "    img.save(\"C:\\Project\\Новая папка (3)\\screen%i.png\"%i, \"PNG\")\n",
    "    time.sleep(1)"
   ]
  },
  {
   "cell_type": "code",
   "execution_count": null,
   "metadata": {},
   "outputs": [],
   "source": [
    "time.sleep(5)\n",
    "img = ImageGrab.grab( (640, 407,1280, 673) )\n",
    "img.save(\"C:\\Project\\screen%i.png\"%1, \"PNG\")"
   ]
  },
  {
   "cell_type": "code",
   "execution_count": null,
   "metadata": {},
   "outputs": [],
   "source": [
    "from PIL import Image, ImageGrab\n",
    "import time\n",
    "import numpy as np\n",
    "import tensorflow as tf"
   ]
  },
  {
   "cell_type": "code",
   "execution_count": null,
   "metadata": {},
   "outputs": [],
   "source": [
    "objects = ['vedma','zombie','cow']\n",
    "font = cv2.FONT_HERSHEY_COMPLEX_SMALL"
   ]
  },
  {
   "cell_type": "code",
   "execution_count": null,
   "metadata": {},
   "outputs": [],
   "source": [
    "def bias_variable(shape):\n",
    "    initial = tf.constant(0.1,shape=shape)\n",
    "    return tf.Variable(initial)\n",
    "sess = tf.Session()\n",
    "w = tf.Variable (tf.truncated_normal([3,3,3,32],stddev=0.1))\n",
    "w_2 = tf.Variable (tf.truncated_normal([3,3,32,64],stddev=0.1))\n",
    "w_3 = tf.Variable (tf.truncated_normal([686080,100],stddev=0.1))\n",
    "w_4 = tf.Variable (tf.truncated_normal([100,3],stddev=0.1))\n",
    "correct_answer = tf.placeholder(dtype=tf.float32)\n",
    "image = tf.placeholder(dtype=tf.float32)\n"
   ]
  },
  {
   "cell_type": "code",
   "execution_count": null,
   "metadata": {},
   "outputs": [],
   "source": [
    "conv = tf.nn.conv2d(image,w,strides=[1,1,1,1],padding='SAME')\n",
    "conv = tf.nn.relu(conv)\n",
    "conv = tf.nn.max_pool(conv,ksize=[1,2,2,1],strides=[1,2,2,1],padding='SAME')\n",
    "\n",
    "conv2 = tf.nn.conv2d(conv,w_2,strides=[1,1,1,1],padding='SAME')\n",
    "conv2 = tf.nn.relu(conv2)\n",
    "conv2 = tf.nn.max_pool(conv2,ksize=[1,2,2,1],strides=[1,2,2,1],padding='SAME')\n",
    "\n",
    "layer1 = tf.matmul(tf.reshape(conv2,[1,686080]),w_3)\n",
    "layer1 = tf.sigmoid(layer1)\n",
    "layer1_drop = tf.nn.dropout(layer1,keep_prob=0.5)\n",
    "\n",
    "layer2_drop = tf.matmul(layer1_drop,w_4)\n",
    "layer2 = tf.matmul(layer1,w_4)\n",
    "soft = tf.nn.softmax(layer2)\n",
    "\n",
    "loss = tf.nn.softmax_cross_entropy_with_logits(labels = correct_answer,logits = layer2_drop)\n",
    "Optimizer = tf.train.AdamOptimizer(learning_rate=0.01).minimize(loss)\n",
    "sess.run(tf.global_variables_initializer())"
   ]
  },
  {
   "cell_type": "code",
   "execution_count": null,
   "metadata": {},
   "outputs": [],
   "source": [
    "classes = []\n",
    "for i in range (1,4):\n",
    "    photos = []\n",
    "    for g in range (17):\n",
    "         photos.append(np.array(Image.open('C:\\Project\\Новая папка ({0})\\screen{1}.png'.format(i,g))))\n",
    "    classes.append(photos)"
   ]
  },
  {
   "cell_type": "code",
   "execution_count": null,
   "metadata": {},
   "outputs": [],
   "source": [
    "correct = np.array([[1.0,0.0,0.0],[0.0,1.0,0.0],[0.0,0.0,1.0]])"
   ]
  },
  {
   "cell_type": "code",
   "execution_count": null,
   "metadata": {},
   "outputs": [],
   "source": [
    "for с in range (10):\n",
    "    for g in range (17):  \n",
    "        for i in range (3):\n",
    "            sess.run([loss,Optimizer],feed_dict={image:classes[i][g].reshape([1,640,266,3]),correct_answer:correct[i]})\n",
    "    print ('epoch done')"
   ]
  },
  {
   "cell_type": "code",
   "execution_count": null,
   "metadata": {},
   "outputs": [],
   "source": [
    "sess.run(soft,feed_dict={image:classes[0][8].reshape([1,640,266,3])})"
   ]
  },
  {
   "cell_type": "code",
   "execution_count": null,
   "metadata": {},
   "outputs": [],
   "source": [
    "sess.run(soft,feed_dict={image:np.array(Image.open('screen1.png')).reshape([1,640,266,3])})"
   ]
  },
  {
   "cell_type": "code",
   "execution_count": null,
   "metadata": {},
   "outputs": [],
   "source": [
    "import telebot\n",
    "bot = telebot.TeleBot('557113299:AAGqdXuKlWv5ZVtjQyerxjkanX7oqNJ0g0w')\n",
    "uservalid = 469576140\n"
   ]
  },
  {
   "cell_type": "code",
   "execution_count": null,
   "metadata": {},
   "outputs": [],
   "source": [
    "@bot.message_handler(commands = [\"start\"])\n",
    "def repeat_all_messages(messag):\n",
    "    if messag.chat.id == uservalid :\n",
    "        img = ImageGrab.grab( (0, 100, 1920, 900) )\n",
    "        img.save(\"C:\\Project\\screen1.png\",\"PNG\")\n",
    "        isl.slice(\"screen1.png\",8)\n",
    "        img = cv2.imread('screen1.png')\n",
    "        for i in range (1,4):\n",
    "            for c in range (1,4):\n",
    "                answer = sess.run(soft,feed_dict={image:np.array(Image.open('screen1_0{0}_0{1}.png'.format (i,c))).reshape([1,640,266,3])})\n",
    "                w = 640*(c-1)\n",
    "                h = 266 * (i-1)\n",
    "                for g in range (3):\n",
    "                    if answer[0,g] >= 0.5 : \n",
    "                        clc = objects[g]\n",
    "                        img = cv2.rectangle(img,(w,h),(640*c,266*i),(0,0,255),3)\n",
    "                        img = cv2.putText(img,clc,(w+10,h+100), font, 4,(15,255,6),2,cv2.LINE_AA)\n",
    "        cv2.imwrite('screen1.bmp',img)\n",
    "        bot.send_photo(messag.chat.id, photo=open('screen1.bmp', 'rb'))"
   ]
  },
  {
   "cell_type": "code",
   "execution_count": null,
   "metadata": {},
   "outputs": [],
   "source": [
    "bot.polling(none_stop=True)  "
   ]
  },
  {
   "cell_type": "code",
   "execution_count": null,
   "metadata": {},
   "outputs": [],
   "source": [
    "import image_slicer as isl\n",
    "import numpy as np\n",
    "from PIL import Image, ImageGrab\n",
    "img = np.array(cv2.imread('C:\\Project\\screen0.bmp'))\n",
    "import cv2"
   ]
  },
  {
   "cell_type": "code",
   "execution_count": null,
   "metadata": {},
   "outputs": [],
   "source": [
    "img = cv2.rectangle(img,(0,0),(960,1080),(0,255,0),3)"
   ]
  },
  {
   "cell_type": "code",
   "execution_count": null,
   "metadata": {},
   "outputs": [],
   "source": [
    "cv2.imwrite('C:\\Project\\screen1.bmp',img)"
   ]
  },
  {
   "cell_type": "code",
   "execution_count": null,
   "metadata": {},
   "outputs": [],
   "source": []
  },
  {
   "cell_type": "code",
   "execution_count": null,
   "metadata": {},
   "outputs": [],
   "source": [
    "cv2.imwrite('C:\\Project\\screen1.bmp',img)"
   ]
  },
  {
   "cell_type": "code",
   "execution_count": null,
   "metadata": {},
   "outputs": [],
   "source": [
    "import image_slicer as isl"
   ]
  },
  {
   "cell_type": "code",
   "execution_count": null,
   "metadata": {},
   "outputs": [],
   "source": [
    "isl.slice('C:\\Project\\screen1.png',9)"
   ]
  },
  {
   "cell_type": "code",
   "execution_count": null,
   "metadata": {},
   "outputs": [],
   "source": [
    "img.save(\"C:\\Project\\screen%i.png\"%1, \"PNG\")"
   ]
  },
  {
   "cell_type": "code",
   "execution_count": null,
   "metadata": {},
   "outputs": [],
   "source": []
  },
  {
   "cell_type": "code",
   "execution_count": null,
   "metadata": {},
   "outputs": [],
   "source": [
    "img = ImageGrab.grab( (0, 100, 1920, 900) )"
   ]
  },
  {
   "cell_type": "code",
   "execution_count": null,
   "metadata": {},
   "outputs": [],
   "source": [
    "for i in range (1,4):\n",
    "    for c in range (1,4):\n",
    "        img = cv2.rectangle(img,(640*(c-1),266 * (i-1)),(640*c,266*i),(0,0,255),3)"
   ]
  },
  {
   "cell_type": "code",
   "execution_count": null,
   "metadata": {},
   "outputs": [],
   "source": [
    "img.save(\"C:\\Project\\screen1.png\",\"PNG\")"
   ]
  },
  {
   "cell_type": "code",
   "execution_count": null,
   "metadata": {},
   "outputs": [],
   "source": [
    "img = cv2.imread('screen1.png')"
   ]
  },
  {
   "cell_type": "code",
   "execution_count": null,
   "metadata": {},
   "outputs": [],
   "source": [
    "img = cv2.putText(img,'clc',(0,500), font, 4,(15,255,6),2,cv2.LINE_AA)"
   ]
  },
  {
   "cell_type": "code",
   "execution_count": null,
   "metadata": {},
   "outputs": [],
   "source": [
    "cv2.imwrite('screen.png',img)"
   ]
  },
  {
   "cell_type": "code",
   "execution_count": null,
   "metadata": {},
   "outputs": [],
   "source": [
    "ф = [1,2,2]"
   ]
  },
  {
   "cell_type": "code",
   "execution_count": null,
   "metadata": {},
   "outputs": [],
   "source": [
    "if 0 :\n",
    "    print (1);\n",
    "    print (2);"
   ]
  }
 ],
 "metadata": {
  "kernelspec": {
   "display_name": "Python 3",
   "language": "python",
   "name": "python3"
  },
  "language_info": {
   "codemirror_mode": {
    "name": "ipython",
    "version": 3
   },
   "file_extension": ".py",
   "mimetype": "text/x-python",
   "name": "python",
   "nbconvert_exporter": "python",
   "pygments_lexer": "ipython3",
   "version": "3.6.3"
  }
 },
 "nbformat": 4,
 "nbformat_minor": 2
}
