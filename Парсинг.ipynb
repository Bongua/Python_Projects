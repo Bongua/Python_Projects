{
 "cells": [
  {
   "cell_type": "code",
   "execution_count": 1,
   "metadata": {},
   "outputs": [],
   "source": [
    "from selenium import webdriver\n",
    "from selenium.webdriver.support.ui import Select\n",
    "from selenium.webdriver.common.keys import Keys\n",
    "import telebot\n",
    "from datetime import *\n"
   ]
  },
  {
   "cell_type": "code",
   "execution_count": 2,
   "metadata": {},
   "outputs": [],
   "source": [
    "bot = telebot.TeleBot('580853427:AAG5SO-kM1du-o7RsWGsTdQSLlCLoYhrT2E')\n",
    "driver = webdriver.Firefox()"
   ]
  },
  {
   "cell_type": "code",
   "execution_count": null,
   "metadata": {},
   "outputs": [],
   "source": [
    "@bot.message_handler(commands = [\"start\",\"r\",\"t\"])\n",
    "def show(message):\n",
    "    \n",
    "\n",
    "driver.get('http://ptpit.perm.ru/rasp11.php')\n",
    "driver.maximize_window()\n",
    "element_1 = Select(driver.find_element_by_id('week_sel'))\n",
    "element_1.select_by_value('614')\n",
    "element_2 = Select(driver.find_element_by_name('group'))\n",
    "element_2.select_by_value('278')\n",
    "element = driver.find_element_by_css_selector('input')\n",
    "element.click()\n",
    "driver.execute_script(\"window.scrollTo(0, 1080)\") \n",
    "driver.get_screenshot_as_file('rasp.png')\n"
   ]
  },
  {
   "cell_type": "code",
   "execution_count": 66,
   "metadata": {},
   "outputs": [],
   "source": [
    "\n",
    "dt = str(datetime.now())\n",
    "h,m = int(dt[11:13]),int(dt[14:16])\n"
   ]
  },
  {
   "cell_type": "code",
   "execution_count": 67,
   "metadata": {},
   "outputs": [
    {
     "data": {
      "text/plain": [
       "14"
      ]
     },
     "execution_count": 67,
     "metadata": {},
     "output_type": "execute_result"
    }
   ],
   "source": [
    "h"
   ]
  },
  {
   "cell_type": "code",
   "execution_count": 68,
   "metadata": {},
   "outputs": [
    {
     "data": {
      "text/plain": [
       "45"
      ]
     },
     "execution_count": 68,
     "metadata": {},
     "output_type": "execute_result"
    }
   ],
   "source": [
    "m"
   ]
  },
  {
   "cell_type": "code",
   "execution_count": null,
   "metadata": {},
   "outputs": [],
   "source": []
  }
 ],
 "metadata": {
  "kernelspec": {
   "display_name": "Python 3",
   "language": "python",
   "name": "python3"
  },
  "language_info": {
   "codemirror_mode": {
    "name": "ipython",
    "version": 3
   },
   "file_extension": ".py",
   "mimetype": "text/x-python",
   "name": "python",
   "nbconvert_exporter": "python",
   "pygments_lexer": "ipython3",
   "version": "3.6.3"
  }
 },
 "nbformat": 4,
 "nbformat_minor": 2
}
