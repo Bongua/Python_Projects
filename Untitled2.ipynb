{
 "cells": [
  {
   "cell_type": "code",
   "execution_count": null,
   "metadata": {},
   "outputs": [],
   "source": [
    "from pywinauto.application import Application\n",
    "# Run a target application\n",
    "app = Application().start(\"notepad.exe\")\n",
    "# Select a menu item\n",
    "app.UntitledNotepad.menu_select(\"Справка->О программе\")\n",
    "# Click on a button\n",
    "app.AboutNotepad.OK.click()\n",
    "# Type a text string\n",
    "app.UntitledNotepad.Edit.type_keys(\"pywinauto Works!\", with_spaces = True)"
   ]
  },
  {
   "cell_type": "code",
   "execution_count": null,
   "metadata": {},
   "outputs": [],
   "source": [
    "from pywinauto.application import Application\n",
    "\n",
    "    \n",
    "app = Application(backend=\"uia\").start('notepad.exe')\n",
    "dlg_spec = app.UntitledNotepad\n",
    "# wait till the window is really open\n",
    "actionable_dlg = dlg_spec.wait('visible')\n"
   ]
  },
  {
   "cell_type": "code",
   "execution_count": null,
   "metadata": {},
   "outputs": [],
   "source": [
    "start_program('notepad.exe')"
   ]
  },
  {
   "cell_type": "code",
   "execution_count": null,
   "metadata": {},
   "outputs": [],
   "source": [
    "from subprocess import Popen\n",
    "from pywinauto import Desktop"
   ]
  },
  {
   "cell_type": "code",
   "execution_count": null,
   "metadata": {},
   "outputs": [],
   "source": [
    "Popen('calc.exe', shell=True)\n",
    "dlg = Desktop(backend=\"uia\").Calculator\n",
    "dlg.wait('visible')"
   ]
  },
  {
   "cell_type": "code",
   "execution_count": null,
   "metadata": {},
   "outputs": [],
   "source": [
    "Popen('C:/Users/user/AppData/Local/Yandex/YandexBrowser/Application/browser.exe', shell=True)\n"
   ]
  },
  {
   "cell_type": "code",
   "execution_count": null,
   "metadata": {},
   "outputs": [],
   "source": [
    "from pywinauto.application import Application\n",
    "# Run a target application\n",
    "app = Application().start(\"notepad.exe\")\n",
    "# Select a menu item\n",
    "#app.UntitledNotepad.menu_select(\"Справка->О программе\")\n",
    "# Type a text string\n",
    "app.UntitledNotepad.Edit.type_keys(\"pywinauto Works!\", with_spaces = True)"
   ]
  },
  {
   "cell_type": "code",
   "execution_count": 1,
   "metadata": {},
   "outputs": [],
   "source": [
    "import tensorflow as tf"
   ]
  },
  {
   "cell_type": "code",
   "execution_count": 12,
   "metadata": {},
   "outputs": [],
   "source": [
    "a = tf.Variable(tf.truncated_normal([3,2],stddev = 0.1,dtype = tf.float64))\n",
    "sess.run (tf.global_variables_initializer())\n"
   ]
  },
  {
   "cell_type": "code",
   "execution_count": 13,
   "metadata": {},
   "outputs": [
    {
     "data": {
      "text/plain": [
       "array([[-0.04427406,  0.06300837],\n",
       "       [-0.1777321 ,  0.07982901],\n",
       "       [-0.05267339, -0.11129408]])"
      ]
     },
     "execution_count": 13,
     "metadata": {},
     "output_type": "execute_result"
    }
   ],
   "source": [
    "sess.run(a)"
   ]
  },
  {
   "cell_type": "code",
   "execution_count": 14,
   "metadata": {},
   "outputs": [],
   "source": [
    "b = tf.placeholder(dtype = tf.float64)"
   ]
  },
  {
   "cell_type": "code",
   "execution_count": 27,
   "metadata": {},
   "outputs": [],
   "source": [
    "c = tf.matmul(b,a)\n",
    "c_=tf.nn.softmax(c)\n",
    "c__ = tf.sigmoid(c)"
   ]
  },
  {
   "cell_type": "code",
   "execution_count": 24,
   "metadata": {},
   "outputs": [
    {
     "data": {
      "text/plain": [
       "array([[0.48783697, 0.51216303]])"
      ]
     },
     "execution_count": 24,
     "metadata": {},
     "output_type": "execute_result"
    }
   ],
   "source": [
    "sess.run(c_,feed_dict={b:np.array([[1,0,1]],dtype = np.float64)})"
   ]
  },
  {
   "cell_type": "code",
   "execution_count": 4,
   "metadata": {},
   "outputs": [],
   "source": [
    "sess = tf.Session()"
   ]
  },
  {
   "cell_type": "code",
   "execution_count": 2,
   "metadata": {},
   "outputs": [],
   "source": [
    "import numpy as np"
   ]
  },
  {
   "cell_type": "code",
   "execution_count": 25,
   "metadata": {},
   "outputs": [
    {
     "data": {
      "text/plain": [
       "array([[-0.09694745, -0.04828571]])"
      ]
     },
     "execution_count": 25,
     "metadata": {},
     "output_type": "execute_result"
    }
   ],
   "source": [
    "sess.run(c,feed_dict={b:np.array([[1,0,1]],dtype = np.float64)})"
   ]
  },
  {
   "cell_type": "code",
   "execution_count": null,
   "metadata": {},
   "outputs": [],
   "source": []
  }
 ],
 "metadata": {
  "kernelspec": {
   "display_name": "Python 3",
   "language": "python",
   "name": "python3"
  },
  "language_info": {
   "codemirror_mode": {
    "name": "ipython",
    "version": 3
   },
   "file_extension": ".py",
   "mimetype": "text/x-python",
   "name": "python",
   "nbconvert_exporter": "python",
   "pygments_lexer": "ipython3",
   "version": "3.6.3"
  }
 },
 "nbformat": 4,
 "nbformat_minor": 2
}
