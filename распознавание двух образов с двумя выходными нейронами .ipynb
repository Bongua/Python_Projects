{
 "cells": [
  {
   "cell_type": "code",
   "execution_count": 1,
   "metadata": {},
   "outputs": [],
   "source": [
    "import tkinter\n",
    "import numpy as np\n",
    "from tkinter import Canvas \n",
    "import time\n",
    "import numpy as np\n",
    "import sys\n",
    "import tensorflow as tf\n",
    "\n"
   ]
  },
  {
   "cell_type": "code",
   "execution_count": 2,
   "metadata": {},
   "outputs": [],
   "source": [
    "width,height = (90,90)\n",
    "sess = tf.Session()\n",
    "w = tf.get_variable(\"Weights\", [2,(width*height)], dtype=tf.float64, initializer=tf.glorot_uniform_initializer(\n",
    "    seed=None,\n",
    "    dtype=tf.float64\n",
    "))\n",
    "\n",
    "\n",
    "\n",
    "\n",
    "sess.run (tf.global_variables_initializer())\n"
   ]
  },
  {
   "cell_type": "code",
   "execution_count": 3,
   "metadata": {},
   "outputs": [],
   "source": [
    "\n",
    "a = np.zeros ((height,width))\n",
    "root = tkinter.Tk()\n",
    "canvas = tkinter.Canvas(root, width = width, height = height)\n",
    "canvas.pack()\n",
    "\n",
    "def draf (event):\n",
    "    canvas.create_oval(event.x, event.y, event.x, event.y)\n",
    "    \n",
    "    a [event.y,event.x] = 1.0\n",
    "    \n",
    "    \n",
    "    \n",
    "canvas.bind('<B1-Motion>',draf)\n",
    "\n",
    "\n",
    "root.title(\"Hello, SQL.ru\")\n",
    "root.mainloop()"
   ]
  },
  {
   "cell_type": "code",
   "execution_count": 4,
   "metadata": {},
   "outputs": [],
   "source": [
    "\n",
    "b = a.reshape(1,(width*height))\n",
    "x = tf.constant(b ,name='input' )\n",
    "output = tf.reduce_sum(tf.multiply(w, x),axis=1)\n",
    "predict = tf.sigmoid(output)"
   ]
  },
  {
   "cell_type": "code",
   "execution_count": 13,
   "metadata": {},
   "outputs": [
    {
     "name": "stdout",
     "output_type": "stream",
     "text": [
      "Это буква А!, с коэффициентом 0.9999999992796906, и вероятностью 99.99999992796906 % ; Это буква Б!, с коэффициентом 1.0640591927580842e-08, и вероятностью 1.0640591927580842e-06 % \n"
     ]
    }
   ],
   "source": [
    "print ('Это буква А!, с коэффициентом {}, и вероятностью {} % ; Это буква Б!, с коэффициентом {}, и вероятностью {} % '.format(\n",
    "    sess.run(predict[0]),sess.run(predict[0]*100),sess.run(predict[1]),sess.run( predict[1]*100)))\n",
    "\n",
    "        \n",
    "    \n",
    "\n",
    "    "
   ]
  },
  {
   "cell_type": "code",
   "execution_count": 6,
   "metadata": {},
   "outputs": [],
   "source": [
    "\n",
    "k = 'а'\n",
    "if k == 'а' or k == 'А':\n",
    "    y_ = [1.0,0.0]\n",
    "else :\n",
    "    y_ = [0.0,1.0]\n",
    "loss = tf.pow(predict - y_,2)\n",
    "epoch = 200\n",
    "step = tf.train.GradientDescentOptimizer(1.0).minimize(loss)"
   ]
  },
  {
   "cell_type": "code",
   "execution_count": 14,
   "metadata": {},
   "outputs": [
    {
     "data": {
      "text/plain": [
       "array([  9.99999999e-01,   1.06440803e-08])"
      ]
     },
     "execution_count": 14,
     "metadata": {},
     "output_type": "execute_result"
    }
   ],
   "source": [
    "loss = tf.pow(predict - [0.0,1.0],2)\n",
    "step = tf.train.GradientDescentOptimizer(1.0).minimize(loss)\n",
    "for i in range(epoch):\n",
    "    \n",
    "    sess.run(step)\n",
    "\n",
    "sess.run(predict)\n",
    "    "
   ]
  },
  {
   "cell_type": "code",
   "execution_count": 12,
   "metadata": {},
   "outputs": [
    {
     "data": {
      "text/plain": [
       "array([  9.99999999e-01,   1.06405919e-08])"
      ]
     },
     "execution_count": 12,
     "metadata": {},
     "output_type": "execute_result"
    }
   ],
   "source": [
    "sess.run(predict)"
   ]
  },
  {
   "cell_type": "code",
   "execution_count": 13,
   "metadata": {},
   "outputs": [
    {
     "name": "stdout",
     "output_type": "stream",
     "text": [
      "[[1.0], [0.0]]\n"
     ]
    }
   ],
   "source": [
    "y = [[1.0],[0.0]]\n",
    "print (y)"
   ]
  },
  {
   "cell_type": "code",
   "execution_count": null,
   "metadata": {},
   "outputs": [],
   "source": []
  }
 ],
 "metadata": {
  "kernelspec": {
   "display_name": "Python 3",
   "language": "python",
   "name": "python3"
  },
  "language_info": {
   "codemirror_mode": {
    "name": "ipython",
    "version": 3
   },
   "file_extension": ".py",
   "mimetype": "text/x-python",
   "name": "python",
   "nbconvert_exporter": "python",
   "pygments_lexer": "ipython3",
   "version": "3.6.3"
  }
 },
 "nbformat": 4,
 "nbformat_minor": 2
}
