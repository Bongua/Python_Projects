{
 "cells": [
  {
   "cell_type": "code",
   "execution_count": 1,
   "metadata": {},
   "outputs": [],
   "source": [
    "import tensorflow as tf\n",
    "sess = tf.Session()\n",
    "w = tf.Variable (tf.truncated_normal([3,3,1,2],stddev=0.1))\n",
    "w_2 = tf.Variable (tf.truncated_normal([2,2],stddev=0.1))\n",
    "sess.run(tf.global_variables_initializer())\n",
    "import numpy as np"
   ]
  },
  {
   "cell_type": "code",
   "execution_count": 2,
   "metadata": {},
   "outputs": [],
   "source": [
    "x_images = [[[240.0,212.0,215.0],[200.0,200.0,180.0],[185.0,250.0,120.0]],[[214.0,218.0,250.0],[214.0,218.0,250.0],[214.0,218.0,250.0]]]\n",
    "x_image_1 = tf.reshape(x_images[0],[1,3,3,1])\n",
    "x_image_2 = tf.reshape(x_images[1],[1,3,3,1])\n",
    "xx = tf.placeholder(dtype=tf.float32)"
   ]
  },
  {
   "cell_type": "code",
   "execution_count": 9,
   "metadata": {},
   "outputs": [
    {
     "name": "stdout",
     "output_type": "stream",
     "text": [
      "[[[[-26.001362  60.12632 ]]]]\n"
     ]
    }
   ],
   "source": [
    "conv = tf.nn.conv2d(xx,w,strides=[1,1,1,1],padding='VALID')\n",
    "print (sess.run(conv,feed_dict={xx:sess.run(x_image_1)}))\n",
    "conv_d = tf.nn.relu(conv)"
   ]
  },
  {
   "cell_type": "code",
   "execution_count": 10,
   "metadata": {},
   "outputs": [
    {
     "data": {
      "text/plain": [
       "array([[[[ 0.     , 60.12632]]]], dtype=float32)"
      ]
     },
     "execution_count": 10,
     "metadata": {},
     "output_type": "execute_result"
    }
   ],
   "source": [
    "sess.run(conv_d,feed_dict={xx:sess.run(x_image_1)})"
   ]
  },
  {
   "cell_type": "code",
   "execution_count": 11,
   "metadata": {},
   "outputs": [
    {
     "name": "stdout",
     "output_type": "stream",
     "text": [
      "[[-0.73020655 -0.13045713]]\n"
     ]
    },
    {
     "data": {
      "text/plain": [
       "array([[0.35440102, 0.64559895]], dtype=float32)"
      ]
     },
     "execution_count": 11,
     "metadata": {},
     "output_type": "execute_result"
    }
   ],
   "source": [
    "a = tf.matmul(tf.reshape(conv_d,[1,2]),w_2)\n",
    "print(sess.run(a,feed_dict={xx:sess.run(x_image_1)}))\n",
    "sess.run(tf.nn.softmax(a),feed_dict={xx:sess.run(x_image_1)})"
   ]
  },
  {
   "cell_type": "code",
   "execution_count": 12,
   "metadata": {},
   "outputs": [
    {
     "data": {
      "text/plain": [
       "array([[-0.13879812, -0.06290618],\n",
       "       [-0.01214454, -0.00216972]], dtype=float32)"
      ]
     },
     "execution_count": 12,
     "metadata": {},
     "output_type": "execute_result"
    }
   ],
   "source": [
    "sess.run (w_2)"
   ]
  },
  {
   "cell_type": "code",
   "execution_count": 7,
   "metadata": {},
   "outputs": [],
   "source": [
    "xxy = tf.placeholder(dtype=tf.float32)\n",
    "loss = tf.nn.softmax_cross_entropy_with_logits(labels = xxy,logits = a)\n"
   ]
  },
  {
   "cell_type": "code",
   "execution_count": 8,
   "metadata": {},
   "outputs": [],
   "source": [
    "Optimizer = tf.train.AdamOptimizer(learning_rate=1.0).minimize(loss)\n",
    "sess.run(tf.global_variables_initializer())"
   ]
  },
  {
   "cell_type": "code",
   "execution_count": null,
   "metadata": {},
   "outputs": [],
   "source": [
    "sess.run([loss,Optimizer],feed_dict={xx:sess.run(x_image_1),xxy:np.array([[1.0,0.0]])})"
   ]
  },
  {
   "cell_type": "code",
   "execution_count": null,
   "metadata": {
    "scrolled": true
   },
   "outputs": [],
   "source": [
    "sess.run(tf.nn.softmax(a),feed_dict={xx:sess.run(x_image_1)})"
   ]
  },
  {
   "cell_type": "code",
   "execution_count": null,
   "metadata": {
    "scrolled": true
   },
   "outputs": [],
   "source": [
    "sess.run(w_2)"
   ]
  },
  {
   "cell_type": "code",
   "execution_count": null,
   "metadata": {},
   "outputs": [],
   "source": [
    "sess.run(w)"
   ]
  },
  {
   "cell_type": "code",
   "execution_count": null,
   "metadata": {},
   "outputs": [],
   "source": [
    "sess.run(a)"
   ]
  },
  {
   "cell_type": "code",
   "execution_count": null,
   "metadata": {},
   "outputs": [],
   "source": [
    "sess.run(tf.nn.softmax(a))"
   ]
  },
  {
   "cell_type": "code",
   "execution_count": null,
   "metadata": {},
   "outputs": [],
   "source": [
    "sess.run(tf.log(0.16838508))"
   ]
  },
  {
   "cell_type": "code",
   "execution_count": null,
   "metadata": {},
   "outputs": [],
   "source": []
  }
 ],
 "metadata": {
  "kernelspec": {
   "display_name": "Python 3",
   "language": "python",
   "name": "python3"
  },
  "language_info": {
   "codemirror_mode": {
    "name": "ipython",
    "version": 3
   },
   "file_extension": ".py",
   "mimetype": "text/x-python",
   "name": "python",
   "nbconvert_exporter": "python",
   "pygments_lexer": "ipython3",
   "version": "3.6.3"
  }
 },
 "nbformat": 4,
 "nbformat_minor": 2
}
