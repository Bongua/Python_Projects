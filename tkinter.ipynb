{
 "cells": [
  {
   "cell_type": "code",
   "execution_count": 6,
   "metadata": {},
   "outputs": [],
   "source": [
    "from tkinter import *\n",
    "\n"
   ]
  },
  {
   "cell_type": "code",
   "execution_count": 14,
   "metadata": {},
   "outputs": [
    {
     "ename": "AttributeError",
     "evalue": "'IntVar' object has no attribute 'pack'",
     "output_type": "error",
     "traceback": [
      "\u001b[1;31m---------------------------------------------------------------------------\u001b[0m",
      "\u001b[1;31mAttributeError\u001b[0m                            Traceback (most recent call last)",
      "\u001b[1;32m<ipython-input-14-7c2a9d7ccd30>\u001b[0m in \u001b[0;36m<module>\u001b[1;34m()\u001b[0m\n\u001b[0;32m     28\u001b[0m \u001b[1;33m\u001b[0m\u001b[0m\n\u001b[0;32m     29\u001b[0m \u001b[1;33m\u001b[0m\u001b[0m\n\u001b[1;32m---> 30\u001b[1;33m \u001b[0mvar\u001b[0m\u001b[1;33m.\u001b[0m\u001b[0mpack\u001b[0m\u001b[1;33m(\u001b[0m\u001b[1;33m)\u001b[0m\u001b[1;33m\u001b[0m\u001b[0m\n\u001b[0m\u001b[0;32m     31\u001b[0m \u001b[1;33m\u001b[0m\u001b[0m\n\u001b[0;32m     32\u001b[0m \u001b[1;33m\u001b[0m\u001b[0m\n",
      "\u001b[1;31mAttributeError\u001b[0m: 'IntVar' object has no attribute 'pack'"
     ]
    }
   ],
   "source": [
    "def printer(event):\n",
    "    \n",
    "    \n",
    "    print (\"Как всегда очередной 'Hello World!'\")\n",
    "root = Tk()\n",
    "but = Button(root,\n",
    "             \n",
    "             \n",
    "            text = 'Печать')\n",
    "#but[\"text\"] = \"Печать\"\n",
    "but.bind(\"<Button-1>\",printer)\n",
    "but.pack()\n",
    "ent = Entry(root,width=20,bd=3)\n",
    "lab = Label(root, text=\"Это метка! \\n Из двух строк.\", font=\"Arial 18\")\n",
    "ent.pack()\n",
    "lab.pack()\n",
    "var=IntVar()\n",
    "var.set(1)\n",
    "rad0 = Radiobutton(root,text=\"Первая\",\n",
    "variable=var,value=0)\n",
    "rad1 = Radiobutton(root,text=\"Вторая\",\n",
    "variable=var,value=1)\n",
    "rad2 = Radiobutton(root,text=\"Третья\",\n",
    "variable=var,value=2)\n",
    "\n",
    "\n",
    "\n",
    "\n",
    "\n",
    "var.pack()\n",
    "\n",
    "\n",
    "\n",
    "\n",
    "\n",
    "\n",
    "\n",
    "\n",
    "\n",
    "\n",
    "\n",
    "root.mainloop()"
   ]
  },
  {
   "cell_type": "code",
   "execution_count": null,
   "metadata": {},
   "outputs": [],
   "source": []
  }
 ],
 "metadata": {
  "kernelspec": {
   "display_name": "Python 3",
   "language": "python",
   "name": "python3"
  },
  "language_info": {
   "codemirror_mode": {
    "name": "ipython",
    "version": 3
   },
   "file_extension": ".py",
   "mimetype": "text/x-python",
   "name": "python",
   "nbconvert_exporter": "python",
   "pygments_lexer": "ipython3",
   "version": "3.6.3"
  }
 },
 "nbformat": 4,
 "nbformat_minor": 2
}
