{
 "cells": [
  {
   "cell_type": "code",
   "execution_count": 1,
   "metadata": {},
   "outputs": [],
   "source": [
    "import tkinter\n",
    "import numpy as np\n",
    "from tkinter import Canvas \n",
    "import time\n",
    "import numpy as np\n",
    "import sys\n",
    "import tensorflow as tf\n",
    "\n"
   ]
  },
  {
   "cell_type": "code",
   "execution_count": 2,
   "metadata": {},
   "outputs": [],
   "source": [
    "width,height = (200,200)\n",
    "sess = tf.Session()\n",
    "w = tf.get_variable(\"Weights\", [3,(width*height)], dtype=tf.float64, initializer=tf.glorot_uniform_initializer(\n",
    "    seed=None,\n",
    "    dtype=tf.float64\n",
    "))\n",
    "\n",
    "\n",
    "\n",
    "\n",
    "sess.run (tf.global_variables_initializer())\n"
   ]
  },
  {
   "cell_type": "code",
   "execution_count": 16,
   "metadata": {},
   "outputs": [],
   "source": [
    "\n",
    "a = np.zeros ((height,width))\n",
    "root = tkinter.Tk()\n",
    "canvas = tkinter.Canvas(root, width = width, height = height)\n",
    "canvas.pack()\n",
    "\n",
    "def draf (event):\n",
    "    canvas.create_oval(event.x, event.y, event.x, event.y)\n",
    "    \n",
    "    a [event.y,event.x] = 1.0\n",
    "    \n",
    "    \n",
    "    \n",
    "canvas.bind('<B1-Motion>',draf)\n",
    "\n",
    "\n",
    "root.title(\"Hello, SQL.ru\")\n",
    "root.mainloop()"
   ]
  },
  {
   "cell_type": "code",
   "execution_count": 17,
   "metadata": {},
   "outputs": [],
   "source": [
    "\n",
    "b = a.reshape(1,(width*height))\n",
    "x = tf.constant(b ,name='input' )\n",
    "output = tf.reduce_sum(tf.multiply(w, x),axis=1)\n",
    "predict = tf.sigmoid(output)"
   ]
  },
  {
   "cell_type": "code",
   "execution_count": 18,
   "metadata": {},
   "outputs": [
    {
     "name": "stdout",
     "output_type": "stream",
     "text": [
      "Это буква A, с коэффициентом 0.5357565455488106, и вероятностью 53.575654554881055 % \n",
      "Это буква Б, с коэффициентом 0.47966326354460637, и вероятностью 47.966326354460634 % \n",
      "Это буква С, с коэффициентом 0.4802451562450846, и вероятностью 48.02451562450846 % \n"
     ]
    }
   ],
   "source": [
    "for_range = [('A',sess.run(predict[0])),('Б',sess.run(predict[1])),('С',sess.run(predict[2]))]\n",
    "for character,value in for_range:\n",
    "    \n",
    "    \n",
    "    \n",
    "\n",
    "\n",
    "    print ('Это буква {}, с коэффициентом {}, и вероятностью {} % '.format(character,value,value*100 ))\n",
    "\n",
    "        \n",
    "    \n",
    "\n",
    "    "
   ]
  },
  {
   "cell_type": "code",
   "execution_count": 6,
   "metadata": {},
   "outputs": [],
   "source": [
    "\n",
    "k = 'a'\n",
    "if k == 'a' or k == 'A':\n",
    "    \n",
    "    \n",
    "    y_ = [1.0,0.0,0.0]\n",
    "elif k == 'b' or k == 'B':\n",
    "    \n",
    "    \n",
    "    y_ = [0.0,1.0,0.0]\n",
    "elif k == 'C' or k == 'c':\n",
    "    \n",
    "    y_ = [0.0,0.0,1.0]\n",
    "\n",
    "loss = tf.pow(predict - y_,2)\n",
    "epoch = 10\n",
    "step = tf.train.GradientDescentOptimizer(0.4).minimize(loss)"
   ]
  },
  {
   "cell_type": "code",
   "execution_count": 7,
   "metadata": {},
   "outputs": [
    {
     "data": {
      "text/plain": [
       "array([  9.99998769e-01,   7.50461023e-07,   2.49714210e-06])"
      ]
     },
     "execution_count": 7,
     "metadata": {},
     "output_type": "execute_result"
    }
   ],
   "source": [
    "for i in range(epoch):\n",
    "    sess.run(step)\n",
    "\n",
    "sess.run(predict)\n",
    "    "
   ]
  },
  {
   "cell_type": "code",
   "execution_count": 3,
   "metadata": {},
   "outputs": [],
   "source": [
    "predict = [21,22,23]"
   ]
  },
  {
   "cell_type": "code",
   "execution_count": 8,
   "metadata": {},
   "outputs": [
    {
     "name": "stdout",
     "output_type": "stream",
     "text": [
      "A\n",
      "Tensor(\"strided_slice_3:0\", shape=(), dtype=float64)\n",
      "Б\n",
      "Tensor(\"strided_slice_4:0\", shape=(), dtype=float64)\n",
      "В\n",
      "Tensor(\"strided_slice_5:0\", shape=(), dtype=float64)\n"
     ]
    }
   ],
   "source": [
    "for_range = [('A',predict[0]),('Б',predict[1]),('В',predict[2])]\n",
    "for i,g in for_range:\n",
    "    print(i)\n",
    "    print (g)"
   ]
  },
  {
   "cell_type": "code",
   "execution_count": 3,
   "metadata": {},
   "outputs": [
    {
     "ename": "SyntaxError",
     "evalue": "unexpected EOF while parsing (<ipython-input-3-d0fa15b95af0>, line 2)",
     "output_type": "error",
     "traceback": [
      "\u001b[1;36m  File \u001b[1;32m\"<ipython-input-3-d0fa15b95af0>\"\u001b[1;36m, line \u001b[1;32m2\u001b[0m\n\u001b[1;33m    for i,g in range (100),a:\u001b[0m\n\u001b[1;37m                             ^\u001b[0m\n\u001b[1;31mSyntaxError\u001b[0m\u001b[1;31m:\u001b[0m unexpected EOF while parsing\n"
     ]
    }
   ],
   "source": []
  },
  {
   "cell_type": "code",
   "execution_count": null,
   "metadata": {},
   "outputs": [],
   "source": []
  },
  {
   "cell_type": "code",
   "execution_count": null,
   "metadata": {},
   "outputs": [],
   "source": []
  }
 ],
 "metadata": {
  "kernelspec": {
   "display_name": "Python 3",
   "language": "python",
   "name": "python3"
  },
  "language_info": {
   "codemirror_mode": {
    "name": "ipython",
    "version": 3
   },
   "file_extension": ".py",
   "mimetype": "text/x-python",
   "name": "python",
   "nbconvert_exporter": "python",
   "pygments_lexer": "ipython3",
   "version": "3.6.3"
  }
 },
 "nbformat": 4,
 "nbformat_minor": 2
}
