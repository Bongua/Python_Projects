{
 "cells": [
  {
   "cell_type": "code",
   "execution_count": 1,
   "metadata": {},
   "outputs": [],
   "source": [
    "import tensorflow as tf"
   ]
  },
  {
   "cell_type": "code",
   "execution_count": 2,
   "metadata": {},
   "outputs": [],
   "source": [
    "train = [\n",
    "    ([0.0, 0.0, 0.0, 0.0], 0.0),\n",
    "    ([0.0, 0.0, 0.0, 1.0], 1.0),\n",
    "    ([0.0, 0.0, 1.0, 0.0], 0.0),\n",
    "    ([0.0, 1.0, 0.0, 0.0], 0.0),\n",
    "    ([1.0, 0.0, 0.0, 0.0], 1.0),\n",
    "    ([0.0, 0.0, 1.0, 1.0], 1.0),\n",
    "    ([0.0, 1.0, 0.0, 1.0], 0.0),\n",
    "    ([1.0, 0.0, 0.0, 1.0], 1.0),\n",
    "    ([0.0, 1.0, 1.0, 0.0], 0.0),\n",
    "    ([1.0, 0.0, 1.0, 0.0], 0.0),\n",
    "    ([1.0, 1.0, 0.0, 0.0], 0.0),\n",
    "    ([0.0, 1.0, 1.0, 1.0], 1.0),\n",
    "    ([1.0, 1.0, 1.0, 0.0], 0.0),\n",
    "    ([1.0, 1.0, 0.0, 1.0], 1.0),\n",
    "    ([1.0, 0.0, 1.0, 1.0], 0.0),\n",
    "    ([1.0, 1.0, 1.0, 1.0], 1.0),\n",
    "    \n",
    "  \n",
    "   \n",
    "    \n",
    "    \n",
    "]"
   ]
  },
  {
   "cell_type": "code",
   "execution_count": 3,
   "metadata": {},
   "outputs": [],
   "source": [
    "sess = tf.Session()\n",
    "epoch = 100000\n",
    "\n",
    "\n",
    "w = tf.get_variable(\"weights_1\", [3,4], dtype=tf.float32, initializer=tf.glorot_uniform_initializer(\n",
    "    seed=None,\n",
    "    dtype=tf.float32\n",
    "))\n",
    "\n",
    "\n",
    "\n",
    "w_2 = tf.get_variable(\"weights_2\", [3,3], dtype=tf.float32, initializer=tf.glorot_uniform_initializer(\n",
    "    seed=None,\n",
    "    dtype=tf.float32\n",
    "))\n",
    "\n",
    "w_3 = tf.get_variable(\"weights_3\", [1,3], dtype=tf.float32, initializer=tf.glorot_uniform_initializer(\n",
    "    seed=None,\n",
    "    dtype=tf.float32\n",
    "))\n",
    "sess.run (tf.global_variables_initializer())"
   ]
  },
  {
   "cell_type": "code",
   "execution_count": 4,
   "metadata": {},
   "outputs": [],
   "source": [
    "for inputs, correct in train:\n",
    "    \n",
    "    x = tf.constant(inputs ,name='input' )\n",
    "    y_ = tf.constant (correct, name='correct_answer')\n",
    "    y = tf.reduce_sum(tf.multiply(w, x),axis=1)\n",
    "    hiden_1 = tf.sigmoid(y)\n",
    "        \n",
    "        \n",
    "    x_2 = tf.reduce_sum(tf.multiply(w_2,hiden_1),axis=1)\n",
    "    hiden_2 = tf.sigmoid(x_2)\n",
    "    output = tf.reduce_sum(tf.multiply(w_3,hiden_2))\n",
    "    predict = tf.sigmoid(output)\n",
    "    loss = tf.pow(predict - y_,2)\n",
    "    \n",
    "    step = tf.train.GradientDescentOptimizer(0.1).minimize(loss)\n",
    "    for i in range (epoch): \n",
    "          \n",
    "        sess.run (step)"
   ]
  },
  {
   "cell_type": "code",
   "execution_count": 5,
   "metadata": {},
   "outputs": [
    {
     "name": "stdout",
     "output_type": "stream",
     "text": [
      "for inputs [0.0, 0.0, 0.0, 0.0] expented : 0.8179770112037659 actual 0.0\n",
      "for inputs [0.0, 0.0, 0.0, 1.0] expented : 0.890271782875061 actual 1.0\n",
      "for inputs [0.0, 0.0, 1.0, 0.0] expented : 0.6218721866607666 actual 0.0\n",
      "for inputs [0.0, 1.0, 0.0, 0.0] expented : 0.7764353156089783 actual 0.0\n",
      "for inputs [1.0, 0.0, 0.0, 0.0] expented : 0.9180780649185181 actual 1.0\n",
      "for inputs [0.0, 0.0, 1.0, 1.0] expented : 0.745952844619751 actual 1.0\n",
      "for inputs [0.0, 1.0, 0.0, 1.0] expented : 0.8732405304908752 actual 0.0\n",
      "for inputs [1.0, 0.0, 0.0, 1.0] expented : 0.915276825428009 actual 1.0\n",
      "for inputs [0.0, 1.0, 1.0, 0.0] expented : 0.5441633462905884 actual 0.0\n",
      "for inputs [1.0, 0.0, 1.0, 0.0] expented : 0.7930290102958679 actual 0.0\n",
      "for inputs [1.0, 1.0, 0.0, 0.0] expented : 0.8895693421363831 actual 0.0\n",
      "for inputs [0.0, 1.0, 1.0, 1.0] expented : 0.7324694991111755 actual 1.0\n",
      "for inputs [1.0, 1.0, 1.0, 0.0] expented : 0.7509346008300781 actual 0.0\n",
      "for inputs [1.0, 1.0, 0.0, 1.0] expented : 0.8978891968727112 actual 1.0\n",
      "for inputs [1.0, 0.0, 1.0, 1.0] expented : 0.8796311020851135 actual 0.0\n",
      "for inputs [1.0, 1.0, 1.0, 1.0] expented : 0.8646596670150757 actual 1.0\n"
     ]
    }
   ],
   "source": [
    "for inputs, correct in train:\n",
    "    \n",
    "    \n",
    "    x = tf.constant(inputs ,name='input' )\n",
    "\n",
    "        \n",
    "    y = tf.reduce_sum(tf.multiply(w, x),axis=1)\n",
    "    itog_hiden = tf.sigmoid(y)\n",
    "        \n",
    "        \n",
    "    itog_output = tf.reduce_sum(tf.multiply(w_2,itog_hiden))\n",
    "    predict = tf.sigmoid(itog_output)\n",
    "    print ('for inputs {} expented : {} actual {}'.format (inputs,sess.run(predict),correct))"
   ]
  },
  {
   "cell_type": "code",
   "execution_count": null,
   "metadata": {},
   "outputs": [],
   "source": []
  },
  {
   "cell_type": "code",
   "execution_count": 9,
   "metadata": {},
   "outputs": [
    {
     "ename": "TypeError",
     "evalue": "'str' object does not support item assignment",
     "output_type": "error",
     "traceback": [
      "\u001b[1;31m---------------------------------------------------------------------------\u001b[0m",
      "\u001b[1;31mTypeError\u001b[0m                                 Traceback (most recent call last)",
      "\u001b[1;32m<ipython-input-9-aa9e6cd34c2e>\u001b[0m in \u001b[0;36m<module>\u001b[1;34m()\u001b[0m\n\u001b[0;32m      1\u001b[0m \u001b[0ma\u001b[0m \u001b[1;33m=\u001b[0m \u001b[1;34m'tet'\u001b[0m\u001b[1;33m\u001b[0m\u001b[0m\n\u001b[1;32m----> 2\u001b[1;33m \u001b[0ma\u001b[0m \u001b[1;33m[\u001b[0m\u001b[1;34m'text'\u001b[0m\u001b[1;33m]\u001b[0m \u001b[1;33m=\u001b[0m \u001b[1;34m'gh'\u001b[0m\u001b[1;33m\u001b[0m\u001b[0m\n\u001b[0m",
      "\u001b[1;31mTypeError\u001b[0m: 'str' object does not support item assignment"
     ]
    }
   ],
   "source": [
    "a = 'tet'\n",
    "a ['text'] = 'gh'"
   ]
  },
  {
   "cell_type": "code",
   "execution_count": null,
   "metadata": {},
   "outputs": [],
   "source": []
  }
 ],
 "metadata": {
  "kernelspec": {
   "display_name": "Python 3",
   "language": "python",
   "name": "python3"
  },
  "language_info": {
   "codemirror_mode": {
    "name": "ipython",
    "version": 3
   },
   "file_extension": ".py",
   "mimetype": "text/x-python",
   "name": "python",
   "nbconvert_exporter": "python",
   "pygments_lexer": "ipython3",
   "version": "3.6.3"
  }
 },
 "nbformat": 4,
 "nbformat_minor": 2
}
