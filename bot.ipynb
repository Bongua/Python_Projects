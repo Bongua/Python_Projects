{
 "cells": [
  {
   "cell_type": "code",
   "execution_count": 1,
   "metadata": {},
   "outputs": [],
   "source": [
    "import pyaudio\n",
    "import wave\n",
    "import tensorflow as tf\n",
    "import numpy as np"
   ]
  },
  {
   "cell_type": "code",
   "execution_count": 2,
   "metadata": {},
   "outputs": [],
   "source": [
    "FORMAT = pyaudio.paInt16\n",
    "CHANNELS = 2\n",
    "RATE = 44100\n",
    "CHUNK = 1024\n",
    "RECORD_SECONDS = 3\n",
    "WAVE_OUTPUT_FILENAME = \"file.wav\""
   ]
  },
  {
   "cell_type": "code",
   "execution_count": null,
   "metadata": {},
   "outputs": [],
   "source": [
    "@bot.message_handler(commands = [\"start\"])\n",
    "def repeat_all_messages(messag):\n",
    "     if messag.chat.id == uservalid :\n",
    "            while 1:\n",
    "                audio = pyaudio.PyAudio()\n",
    "                stream = audio.open(format=FORMAT, channels=CHANNELS,\n",
    "                rate=RATE, input=True,\n",
    "                frames_per_buffer=CHUNK)\n",
    "                frames = []\n",
    " \n",
    "                for i in range(0, int(RATE / CHUNK * RECORD_SECONDS)):\n",
    "                    data = stream.read(CHUNK)\n",
    "                    frames.append(data)\n",
    " \n",
    "                \n",
    "                stream.stop_stream()\n",
    "                stream.close()\n",
    "                audio.terminate()\n",
    "\n",
    "\n",
    "                waveFile = wave.open(WAVE_OUTPUT_FILENAME, 'wb')\n",
    "                waveFile.setnchannels(CHANNELS)\n",
    "                waveFile.setsampwidth(audio.get_sample_size(FORMAT))\n",
    "                waveFile.setframerate(RATE)\n",
    "                waveFile.writeframes(b''.join(frames))\n",
    "                waveFile.close()\n",
    "\n",
    "\n",
    "                inputs = []\n",
    "                for i in frames:\n",
    "                    for g in i:\n",
    "                        inputs.append(g)\n",
    "    \n",
    "                inputs = np.array(inputs).reshape(1,len(inputs))/255\n",
    "                bot.send_message(messag.chat.id,str(sess.run(soft,feed_dict={x: inputs})))   "
   ]
  },
  {
   "cell_type": "code",
   "execution_count": null,
   "metadata": {},
   "outputs": [],
   "source": [
    "import telebot\n",
    "bot = telebot.TeleBot('557113299:AAGqdXuKlWv5ZVtjQyerxjkanX7oqNJ0g0w')\n",
    "uservalid = 469576140"
   ]
  },
  {
   "cell_type": "code",
   "execution_count": null,
   "metadata": {},
   "outputs": [],
   "source": [
    "for c in range (len(inputs[0])):\n",
    "    inp.append(inputs[0][c])\n",
    "    if (c+1)%528384==0:\n",
    "        ins.append(inp)\n",
    "        inp = []\n",
    "        \n",
    "        \n",
    "    "
   ]
  },
  {
   "cell_type": "code",
   "execution_count": null,
   "metadata": {},
   "outputs": [],
   "source": [
    "for i in range (10):\n",
    "    \n",
    "    print(len(ins[i]))"
   ]
  },
  {
   "cell_type": "code",
   "execution_count": null,
   "metadata": {},
   "outputs": [],
   "source": [
    "tt.append(ins)#0-andrey 1-semen 2-noise"
   ]
  },
  {
   "cell_type": "code",
   "execution_count": null,
   "metadata": {},
   "outputs": [],
   "source": [
    "tt[1][0][0]"
   ]
  },
  {
   "cell_type": "code",
   "execution_count": null,
   "metadata": {},
   "outputs": [],
   "source": [
    "sess = tf.Session()\n",
    "x = tf.placeholder(dtype=tf.float32)\n",
    "x_drop = tf.nn.dropout(x,keep_prob=0.5)\n",
    "expected = tf.placeholder(tf.float32)\n",
    "w = tf.Variable(tf.truncated_normal([528384,3],stddev=0.01))\n",
    "predict = tf.matmul(x_drop,w)\n",
    "answer = tf.matmul(x,w)\n",
    "soft = tf.nn.softmax(answer)\n",
    "loss = tf.nn.softmax_cross_entropy_with_logits(labels = expected,logits = predict)\n",
    "Optimizer = tf.train.GradientDescentOptimizer(0.001).minimize(loss)\n",
    "init = tf.global_variables_initializer()\n",
    "sess.run (init)"
   ]
  },
  {
   "cell_type": "code",
   "execution_count": null,
   "metadata": {},
   "outputs": [],
   "source": [
    "correct = np.array([[1.0,0.0,0.0],[0.0,1.0,0.0],[0.0,0.0,1.0]])"
   ]
  },
  {
   "cell_type": "code",
   "execution_count": null,
   "metadata": {},
   "outputs": [],
   "source": [
    "for c in range(5):\n",
    "    for i in range(10):\n",
    "        for g in range(3):\n",
    "            sess.run([loss,Optimizer],feed_dict={x:np.array(tt[g][i]).reshape(1,528384),expected:correct[g]})\n",
    "            \n",
    "        \n",
    "    \n",
    "        "
   ]
  },
  {
   "cell_type": "code",
   "execution_count": null,
   "metadata": {},
   "outputs": [],
   "source": [
    "sess.run(soft,feed_dict={x:np.array(tt[2][7]).reshape(1,528384)})"
   ]
  },
  {
   "cell_type": "code",
   "execution_count": null,
   "metadata": {},
   "outputs": [],
   "source": [
    "sess.run(init)"
   ]
  },
  {
   "cell_type": "code",
   "execution_count": null,
   "metadata": {},
   "outputs": [],
   "source": [
    "bot.polling(none_stop=True)"
   ]
  },
  {
   "cell_type": "code",
   "execution_count": null,
   "metadata": {},
   "outputs": [],
   "source": []
  },
  {
   "cell_type": "code",
   "execution_count": null,
   "metadata": {},
   "outputs": [],
   "source": [
    "print (data)"
   ]
  },
  {
   "cell_type": "code",
   "execution_count": null,
   "metadata": {},
   "outputs": [],
   "source": [
    "a = np.array([5,2,3])"
   ]
  },
  {
   "cell_type": "code",
   "execution_count": null,
   "metadata": {},
   "outputs": [],
   "source": [
    "a.(0)"
   ]
  },
  {
   "cell_type": "code",
   "execution_count": null,
   "metadata": {},
   "outputs": [],
   "source": []
  },
  {
   "cell_type": "code",
   "execution_count": null,
   "metadata": {},
   "outputs": [],
   "source": [
    "FORMAT = pyaudio.paInt16\n",
    "CHANNELS = 2\n",
    "RATE = 44100\n",
    "CHUNK = 1024\n",
    "RECORD_SECONDS = 30\n",
    "WAVE_OUTPUT_FILENAME = \"voice3.wav\"\n",
    " \n",
    "audio = pyaudio.PyAudio()\n",
    " \n",
    "# start Recording\n",
    "stream = audio.open(format=FORMAT, channels=CHANNELS,\n",
    "                rate=RATE, input=True,\n",
    "                frames_per_buffer=CHUNK)\n",
    "print (\"recording...\")\n",
    "frames = []\n",
    " \n",
    "for i in range(0, int(RATE / CHUNK * RECORD_SECONDS)):\n",
    "    data = stream.read(CHUNK)\n",
    "    frames.append(data)\n",
    "print (\"finished recording\")\n",
    " \n",
    " \n",
    "# stop Recording\n",
    "stream.stop_stream()\n",
    "stream.close()\n",
    "audio.terminate()\n",
    "\n",
    "\n",
    "waveFile = wave.open(WAVE_OUTPUT_FILENAME, 'wb')\n",
    "waveFile.setnchannels(CHANNELS)\n",
    "waveFile.setsampwidth(audio.get_sample_size(FORMAT))\n",
    "waveFile.setframerate(RATE)\n",
    "waveFile.writeframes(b''.join(frames))\n",
    "waveFile.close()\n",
    "\n",
    "\n",
    "inputs = []\n",
    "for i in frames:\n",
    "    for g in i:\n",
    "        inputs.append(g)\n",
    "    \n",
    "inputs = np.array(inputs).reshape(1,len(inputs))/255"
   ]
  },
  {
   "cell_type": "code",
   "execution_count": null,
   "metadata": {},
   "outputs": [],
   "source": [
    "voices = []\n",
    "for i in range (1,4):\n",
    "    \n",
    "    wf = wave.open(\"voice%i.wav\"%i, 'rb')\n",
    "    p = pyaudio.PyAudio()\n",
    "    stream = p.open(format =\n",
    "                p.get_format_from_width(wf.getsampwidth()),\n",
    "                channels = wf.getnchannels(),\n",
    "                rate = wf.getframerate(),\n",
    "                output = True)\n",
    "\n",
    "    data = wf.readframes(1321984)\n",
    "    inputs1 = []\n",
    "    for f in data:\n",
    "        inputs1.append(f)\n",
    "    voices.append(inputs1)"
   ]
  },
  {
   "cell_type": "code",
   "execution_count": null,
   "metadata": {},
   "outputs": [],
   "source": [
    "inputs1 = np.array(inputs1).reshape(1,len(inputs1))/255"
   ]
  },
  {
   "cell_type": "code",
   "execution_count": null,
   "metadata": {},
   "outputs": [],
   "source": [
    "len(voices[2])"
   ]
  },
  {
   "cell_type": "code",
   "execution_count": null,
   "metadata": {},
   "outputs": [],
   "source": [
    "inputs.size"
   ]
  }
 ],
 "metadata": {
  "kernelspec": {
   "display_name": "Python 3",
   "language": "python",
   "name": "python3"
  },
  "language_info": {
   "codemirror_mode": {
    "name": "ipython",
    "version": 3
   },
   "file_extension": ".py",
   "mimetype": "text/x-python",
   "name": "python",
   "nbconvert_exporter": "python",
   "pygments_lexer": "ipython3",
   "version": "3.6.3"
  }
 },
 "nbformat": 4,
 "nbformat_minor": 2
}
