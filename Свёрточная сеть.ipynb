{
 "cells": [
  {
   "cell_type": "code",
   "execution_count": null,
   "metadata": {},
   "outputs": [],
   "source": [
    "j = 0\n",
    "import time\n",
    "while True:\n",
    "    \n",
    "    for i in range (2):\n",
    "    \n",
    "    \n",
    "    \n",
    "        frame,photo = cap.read()\n",
    "    \n",
    "    cv2.imwrite('C:\\Project\\Base\\g1\\capture'+str(j)+'.jpg',photo)\n",
    "    j+=1\n",
    "    time.sleep(0.2)\n",
    "    if j == 15: break\n",
    "    #photo = np.array(photo,dtype=np.float32 ).reshape([1,480,640,3])   "
   ]
  },
  {
   "cell_type": "code",
   "execution_count": null,
   "metadata": {},
   "outputs": [],
   "source": [
    "import cv2\n",
    "import tensorflow as tf\n",
    "import numpy as np\n",
    "import time\n",
    "\n",
    "def bias_variable(shape):\n",
    "    initial = tf.constant(0.1,shape=shape)\n",
    "    return tf.Variable(initial)\n",
    "sess = tf.Session()\n",
    "w = tf.Variable (tf.truncated_normal([3,3,3,32],stddev=0.1))\n",
    "#b_1 = bias_variable([32])\n",
    "w_2 = tf.Variable (tf.truncated_normal([3,3,32,64],stddev=0.1))\n",
    "#b_2 = bias_variable([64])\n",
    "w_3 = tf.Variable (tf.truncated_normal([1228800,100],stddev=0.1))\n",
    "w_4 = tf.Variable (tf.truncated_normal([100,2],stddev=0.1))\n",
    "#b_3 = bias_variable([100])\n",
    "correct_answer = tf.placeholder(dtype=tf.float32)\n",
    "image = tf.placeholder(dtype=tf.float32)\n",
    "bbb = np.zeros((2,2))\n",
    "cl = 0\n",
    "for i in bbb:\n",
    "    i[cl] = 1.0\n",
    "    cl+=1\n",
    "#bbb = np.array([[[1.0,0.0,0.0,0.0,0.0]],[[0.0,1.0,0.0,0.0,0.0]]])"
   ]
  },
  {
   "cell_type": "code",
   "execution_count": null,
   "metadata": {},
   "outputs": [],
   "source": [
    "all_data = []\n",
    "for i in range (2):\n",
    "    data = []\n",
    "    for g in range (15):\n",
    "        data.append(cv2.imread('C:\\Project\\Base\\g{0}\\capture{1}.jpg'.format(i,g)).reshape([1,480,640,3]))\n",
    "        \n",
    "    all_data.append(data)"
   ]
  },
  {
   "cell_type": "code",
   "execution_count": null,
   "metadata": {},
   "outputs": [],
   "source": [
    "\n",
    "conv = tf.nn.conv2d(image,w,strides=[1,1,1,1],padding='SAME')\n",
    "#conv = tf.nn.bias_add(conv,b_1)\n",
    "conv = tf.nn.relu(conv)\n",
    "conv = tf.nn.max_pool(conv,ksize=[1,2,2,1],strides=[1,2,2,1],padding='SAME')\n",
    "\n",
    "conv2 = tf.nn.conv2d(conv,w_2,strides=[1,1,1,1],padding='SAME')\n",
    "#conv2 = tf.nn.bias_add(conv2,b_2)\n",
    "conv2 = tf.nn.relu(conv2)\n",
    "conv2 = tf.nn.max_pool(conv2,ksize=[1,2,2,1],strides=[1,2,2,1],padding='SAME')\n",
    "\n",
    "layer1 = tf.matmul(tf.reshape(conv2,[1,1228800]),w_3)\n",
    "#layer1 = tf.nn.bias_add(layer1,b_3)\n",
    "layer1 = tf.sigmoid(layer1)\n",
    "layer1_drop = tf.nn.dropout(layer1,keep_prob=0.5)\n",
    "\n",
    "layer2_drop = tf.matmul(layer1_drop,w_4)\n",
    "layer2 = tf.matmul(layer1,w_4)\n",
    "soft = tf.nn.softmax(layer2)\n",
    "\n",
    "loss = tf.nn.softmax_cross_entropy_with_logits(labels = correct_answer,logits = layer2_drop)\n",
    "Optimizer = tf.train.AdamOptimizer(learning_rate=0.01).minimize(loss)\n",
    "sess.run(tf.global_variables_initializer())\n"
   ]
  },
  {
   "cell_type": "code",
   "execution_count": null,
   "metadata": {},
   "outputs": [],
   "source": [
    "for c in range (2):\n",
    "    \n",
    "    for i in range (15):\n",
    "        for g in range (2):  \n",
    "            sess.run([loss,Optimizer],feed_dict={image:all_data[g][i],correct_answer:bbb[g]})\n",
    " \n",
    "    \n",
    "        \n",
    "    \n",
    "   \n",
    "    \n",
    "\n",
    "    "
   ]
  },
  {
   "cell_type": "code",
   "execution_count": null,
   "metadata": {},
   "outputs": [],
   "source": [
    "sess.run(soft,feed_dict={image:all_data[0][4]})"
   ]
  },
  {
   "cell_type": "code",
   "execution_count": null,
   "metadata": {},
   "outputs": [],
   "source": [
    "cap = cv2.VideoCapture(0)"
   ]
  },
  {
   "cell_type": "code",
   "execution_count": null,
   "metadata": {},
   "outputs": [],
   "source": [
    "frame,photo = cap.read()\n",
    "cv2.imwrite('capture1.jpg',photo)\n",
    "pht = cv2.imread('capture1.jpg').reshape([1,480,640,3])\n",
    "sess.run(soft,feed_dict={image:pht})"
   ]
  },
  {
   "cell_type": "code",
   "execution_count": null,
   "metadata": {},
   "outputs": [],
   "source": []
  },
  {
   "cell_type": "code",
   "execution_count": null,
   "metadata": {},
   "outputs": [],
   "source": []
  }
 ],
 "metadata": {
  "kernelspec": {
   "display_name": "Python 3",
   "language": "python",
   "name": "python3"
  },
  "language_info": {
   "codemirror_mode": {
    "name": "ipython",
    "version": 3
   },
   "file_extension": ".py",
   "mimetype": "text/x-python",
   "name": "python",
   "nbconvert_exporter": "python",
   "pygments_lexer": "ipython3",
   "version": "3.6.3"
  }
 },
 "nbformat": 4,
 "nbformat_minor": 2
}
