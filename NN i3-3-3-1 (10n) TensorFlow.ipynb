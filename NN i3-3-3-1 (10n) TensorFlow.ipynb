{
 "cells": [
  {
   "cell_type": "code",
   "execution_count": 1,
   "metadata": {},
   "outputs": [],
   "source": [
    "import tensorflow as tf\n"
   ]
  },
  {
   "cell_type": "code",
   "execution_count": 2,
   "metadata": {},
   "outputs": [],
   "source": [
    "train = [\n",
    "    ([0.0, 0.0, 0.0], 0.0),\n",
    "    ([0.0, 0.0, 1.0], 1.0),\n",
    "    ([0.0, 1.0, 0.0], 0.0),\n",
    "    ([0.0, 1.0, 1.0], 0.0),\n",
    "    ([1.0, 0.0, 0.0], 1.0),\n",
    "    ([1.0, 0.0, 1.0], 1.0),\n",
    "    ([1.0, 1.0, 0.0], 0.0),\n",
    "    ([1.0, 1.0, 1.0], 0.0),\n",
    "   \n",
    "    \n",
    "    \n",
    "]"
   ]
  },
  {
   "cell_type": "code",
   "execution_count": 3,
   "metadata": {},
   "outputs": [],
   "source": [
    "sess = tf.Session()\n",
    "epoch = 40000\n",
    "\n",
    "\n",
    "w = tf.get_variable(\"weights_1\", [3,3], dtype=tf.float32, initializer=tf.glorot_uniform_initializer(\n",
    "    seed=None,\n",
    "    dtype=tf.float32\n",
    "))\n",
    "\n",
    "\n",
    "\n",
    "w_2 = tf.get_variable(\"weights_2\", [3,3], dtype=tf.float32, initializer=tf.glorot_uniform_initializer(\n",
    "    seed=None,\n",
    "    dtype=tf.float32\n",
    "))\n",
    "\n",
    "w_3 = tf.get_variable(\"weights_3\", [1,3], dtype=tf.float32, initializer=tf.glorot_uniform_initializer(\n",
    "    seed=None,\n",
    "    dtype=tf.float32\n",
    "))\n",
    "sess.run (tf.global_variables_initializer())"
   ]
  },
  {
   "cell_type": "code",
   "execution_count": 4,
   "metadata": {},
   "outputs": [],
   "source": [
    "for inputs, correct in train:\n",
    "    \n",
    "    x = tf.constant(inputs ,name='input' )\n",
    "    y_ = tf.constant (correct, name='correct_answer')\n",
    "    y = tf.reduce_sum(tf.multiply(w, x),axis=1)\n",
    "    hiden_1 = tf.sigmoid(y)\n",
    "        \n",
    "        \n",
    "    x_2 = tf.reduce_sum(tf.multiply(w_2,hiden_1),axis=1)\n",
    "    hiden_2 = tf.sigmoid(x_2)\n",
    "    output = tf.reduce_sum(tf.multiply(w_3,hiden_2))\n",
    "    predict = tf.sigmoid(output)\n",
    "    loss = tf.pow(predict - y_,2)\n",
    "    \n",
    "    step = tf.train.GradientDescentOptimizer(0.1).minimize(loss)\n",
    "    for i in range (epoch): \n",
    "          \n",
    "        sess.run (step)"
   ]
  },
  {
   "cell_type": "code",
   "execution_count": 5,
   "metadata": {},
   "outputs": [
    {
     "name": "stdout",
     "output_type": "stream",
     "text": [
      "for inputs [0.0, 0.0, 0.0] expented : 0.35191038250923157 actual 0.0\n",
      "for inputs [0.0, 0.0, 1.0] expented : 0.3051161468029022 actual 1.0\n",
      "for inputs [0.0, 1.0, 0.0] expented : 0.5121362805366516 actual 0.0\n",
      "for inputs [0.0, 1.0, 1.0] expented : 0.4841417670249939 actual 0.0\n",
      "for inputs [1.0, 0.0, 0.0] expented : 0.3423823118209839 actual 1.0\n",
      "for inputs [1.0, 0.0, 1.0] expented : 0.29727086424827576 actual 1.0\n",
      "for inputs [1.0, 1.0, 0.0] expented : 0.5098206400871277 actual 0.0\n",
      "for inputs [1.0, 1.0, 1.0] expented : 0.48119449615478516 actual 0.0\n"
     ]
    }
   ],
   "source": [
    "for inputs, correct in train:\n",
    "    \n",
    "    \n",
    "    x = tf.constant(inputs ,name='input' )\n",
    "\n",
    "        \n",
    "    y = tf.reduce_sum(tf.multiply(w, x),axis=1)\n",
    "    itog_hiden = tf.sigmoid(y)\n",
    "        \n",
    "        \n",
    "    itog_output = tf.reduce_sum(tf.multiply(w_2,itog_hiden))\n",
    "    predict = tf.sigmoid(itog_output)\n",
    "    print ('for inputs {} expented : {} actual {}'.format (inputs,sess.run(predict),correct))"
   ]
  },
  {
   "cell_type": "code",
   "execution_count": null,
   "metadata": {},
   "outputs": [],
   "source": []
  }
 ],
 "metadata": {
  "kernelspec": {
   "display_name": "Python 3",
   "language": "python",
   "name": "python3"
  },
  "language_info": {
   "codemirror_mode": {
    "name": "ipython",
    "version": 3
   },
   "file_extension": ".py",
   "mimetype": "text/x-python",
   "name": "python",
   "nbconvert_exporter": "python",
   "pygments_lexer": "ipython3",
   "version": "3.6.3"
  }
 },
 "nbformat": 4,
 "nbformat_minor": 2
}
