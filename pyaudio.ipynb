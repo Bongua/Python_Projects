{
 "cells": [
  {
   "cell_type": "code",
   "execution_count": null,
   "metadata": {},
   "outputs": [],
   "source": [
    "import tensorflow as tf\n",
    "import telebot"
   ]
  },
  {
   "cell_type": "code",
   "execution_count": null,
   "metadata": {},
   "outputs": [],
   "source": [
    "sess = tf.Session()\n",
    "x = tf.placeholder(dtype=tf.float32)\n",
    "x_drop = tf.nn.dropout(x,keep_prob=0.5)\n",
    "expected = tf.placeholder(tf.float32)\n",
    "w = tf.Variable(tf.truncated_normal([5545,2],stddev=0.01))\n",
    "predict = tf.matmul(input_layer,w)\n",
    "loss = tf.nn.softmax_cross_entropy_with_logits(labels = correct_answer,logits = predict)\n",
    "Optimizer = tf.train.GradientDescentOptimizer(0.0001).minimize(loss)\n",
    "init = tf.global_variables_initializer()\n",
    "sess.run (init)"
   ]
  },
  {
   "cell_type": "code",
   "execution_count": null,
   "metadata": {},
   "outputs": [],
   "source": [
    "for i in range (200):\n",
    "    \n",
    "    sess.run([loss,Optimizer],feed_dict={x: poka,expected: np.array([0.0,1.0])})\n",
    "    sess.run([loss,Optimizer],feed_dict={x: privet,expected: np.array([1.0,0.0])})"
   ]
  },
  {
   "cell_type": "code",
   "execution_count": null,
   "metadata": {},
   "outputs": [],
   "source": [
    "bot = telebot.TeleBot('459887657:AAEKXpUAkG-HoGudCAT2iFPJ94TuD7MyLV0')"
   ]
  },
  {
   "cell_type": "code",
   "execution_count": null,
   "metadata": {},
   "outputs": [],
   "source": [
    "@bot.message_handler(content_types=['voice'])\n",
    "def handle_docs_photo(message):\n",
    "    \n",
    "    try:\n",
    "        chat_id = message.chat.id\n",
    "       \n",
    "        file_info = bot.get_file(message.voice.file_id)\n",
    "        downloaded_file = bot.download_file(file_info.file_path)\n",
    "        inputl\n",
    "        privet.append(downloaded_file)\n",
    "        print (len(downloaded_file))\n",
    "    except Exception as e:\n",
    "        bot.reply_to(message,e )"
   ]
  },
  {
   "cell_type": "code",
   "execution_count": null,
   "metadata": {},
   "outputs": [],
   "source": [
    "bot.polling(none_stop=True)"
   ]
  },
  {
   "cell_type": "code",
   "execution_count": null,
   "metadata": {},
   "outputs": [],
   "source": [
    "5545"
   ]
  },
  {
   "cell_type": "code",
   "execution_count": null,
   "metadata": {},
   "outputs": [],
   "source": [
    "privet = []\n",
    "poka = []"
   ]
  },
  {
   "cell_type": "code",
   "execution_count": null,
   "metadata": {},
   "outputs": [],
   "source": []
  }
 ],
 "metadata": {
  "kernelspec": {
   "display_name": "Python 3",
   "language": "python",
   "name": "python3"
  },
  "language_info": {
   "codemirror_mode": {
    "name": "ipython",
    "version": 3
   },
   "file_extension": ".py",
   "mimetype": "text/x-python",
   "name": "python",
   "nbconvert_exporter": "python",
   "pygments_lexer": "ipython3",
   "version": "3.6.3"
  }
 },
 "nbformat": 4,
 "nbformat_minor": 2
}
