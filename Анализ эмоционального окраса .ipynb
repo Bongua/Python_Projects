{
 "cells": [
  {
   "cell_type": "code",
   "execution_count": 1,
   "metadata": {
    "scrolled": true
   },
   "outputs": [],
   "source": [
    "from nltk.tokenize import TweetTokenizer\n",
    "from nltk.stem.snowball import RussianStemmer\n",
    "import pandas as pd\n",
    "import re\n",
    "import tensorflow as tf\n",
    "import numpy as np\n",
    "import sys\n",
    "import vk"
   ]
  },
  {
   "cell_type": "code",
   "execution_count": 2,
   "metadata": {},
   "outputs": [],
   "source": [
    "t = TweetTokenizer()\n",
    "stemer = RussianStemmer()\n",
    "regex = re.compile('[^а-яА-Я ]')"
   ]
  },
  {
   "cell_type": "code",
   "execution_count": 3,
   "metadata": {},
   "outputs": [],
   "source": [
    "tweets_col_number = 3\n",
    "negative_tweets = pd.read_csv(\n",
    "    'negative.csv', header=None, delimiter=';')[[tweets_col_number]]\n",
    "positive_tweets = pd.read_csv(\n",
    "    'positive.csv', header=None, delimiter=';')[[tweets_col_number]]"
   ]
  },
  {
   "cell_type": "code",
   "execution_count": 4,
   "metadata": {},
   "outputs": [],
   "source": [
    "sess = tf.Session()\n",
    "w = tf.get_variable(\"Weights_2\", [1,310000], dtype=tf.float64, initializer=tf.glorot_uniform_initializer(\n",
    "    seed=None,\n",
    "    dtype=tf.float64\n",
    "))\n",
    "sess.run (tf.global_variables_initializer())\n",
    "dictionary = []\n",
    "expected = tf.placeholder(tf.float64)\n",
    "x = tf.placeholder(tf.float64)\n",
    "predict = tf.sigmoid(tf.reduce_sum(tf.multiply(w, x)))\n",
    "loss = tf.pow(predict - expected,2)\n",
    "Optimizer = tf.train.GradientDescentOptimizer(1.0).minimize(loss)"
   ]
  },
  {
   "cell_type": "code",
   "execution_count": null,
   "metadata": {},
   "outputs": [
    {
     "name": "stdout",
     "output_type": "stream",
     "text": [
      "Positive is done !\n"
     ]
    }
   ],
   "source": [
    "for i,tweet in positive_tweets.iterrows():\n",
    "    for token in t.tokenize(tweet[3]):\n",
    "        vector = np.zeros((1,310000))\n",
    "        stem = stemer.stem(token)\n",
    "        if stem not in dictionary: dictionary.append(stem)\n",
    "        vector[0,dictionary.index(stem)] = 1.0\n",
    "        sess.run([loss,Optimizer],feed_dict={x: vector,expected: 1.0})\n",
    "\n",
    "    \n",
    "\n",
    "\n",
    "print ('Positive is done !')\n",
    "\n",
    "\n",
    "for i,tweet in negative_tweets.iterrows():\n",
    "    for token in t.tokenize(tweet[3]):\n",
    "        vector = np.zeros((1,310000))\n",
    "        stem = stemer.stem(token)\n",
    "        if stem not in dictionary: dictionary.append(stem)\n",
    "        vector[0,dictionary.index(stem)] = 1.0\n",
    "        sess.run([loss,Optimizer],feed_dict={x: vector,expected: 0.0})\n",
    "        \n",
    "   \n",
    "print ('Negative is done !')\n",
    "    \n"
   ]
  },
  {
   "cell_type": "code",
   "execution_count": null,
   "metadata": {},
   "outputs": [],
   "source": [
    "vector = np.zeros((1,310000))   \n",
    "for i in t.tokenize('Текст'):\n",
    "    \n",
    "    \n",
    "    print (stemer.stem(i))\n",
    "    print (dictionary.index(stemer.stem(i)))\n",
    "    vector[0,dictionary.index(stemer.stem(i))] = 1.0\n",
    "print (sess.run(predict,feed_dict={x: vector}))\n"
   ]
  },
  {
   "cell_type": "code",
   "execution_count": null,
   "metadata": {},
   "outputs": [],
   "source": []
  }
 ],
 "metadata": {
  "kernelspec": {
   "display_name": "Python 3",
   "language": "python",
   "name": "python3"
  },
  "language_info": {
   "codemirror_mode": {
    "name": "ipython",
    "version": 3
   },
   "file_extension": ".py",
   "mimetype": "text/x-python",
   "name": "python",
   "nbconvert_exporter": "python",
   "pygments_lexer": "ipython3",
   "version": "3.6.3"
  }
 },
 "nbformat": 4,
 "nbformat_minor": 2
}
