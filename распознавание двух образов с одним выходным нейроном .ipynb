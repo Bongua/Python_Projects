{
 "cells": [
  {
   "cell_type": "code",
   "execution_count": 1,
   "metadata": {},
   "outputs": [],
   "source": [
    "import tkinter\n",
    "import numpy as np\n",
    "from tkinter import Canvas \n",
    "import time\n",
    "import numpy as np\n",
    "import sys\n",
    "import tensorflow as tf\n",
    "\n"
   ]
  },
  {
   "cell_type": "code",
   "execution_count": 2,
   "metadata": {},
   "outputs": [],
   "source": [
    "width,height = (90,90)\n",
    "sess = tf.Session()\n",
    "w = tf.get_variable(\"my_variable\", [1,(width*height)], dtype=tf.float64, initializer=tf.glorot_uniform_initializer(\n",
    "    seed=None,\n",
    "    dtype=tf.float64\n",
    "))\n",
    "\n",
    "\n",
    "sess.run (tf.global_variables_initializer())\n"
   ]
  },
  {
   "cell_type": "code",
   "execution_count": 21,
   "metadata": {},
   "outputs": [
    {
     "name": "stderr",
     "output_type": "stream",
     "text": [
      "Exception in Tkinter callback\n",
      "Traceback (most recent call last):\n",
      "  File \"c:\\users\\user\\appdata\\local\\programs\\python\\python36\\lib\\tkinter\\__init__.py\", line 1699, in __call__\n",
      "    return self.func(*args)\n",
      "  File \"<ipython-input-21-2ad27ab2b4d9>\", line 10, in draf\n",
      "    a [event.y,event.x] = 1.0\n",
      "IndexError: index 90 is out of bounds for axis 1 with size 90\n",
      "Exception in Tkinter callback\n",
      "Traceback (most recent call last):\n",
      "  File \"c:\\users\\user\\appdata\\local\\programs\\python\\python36\\lib\\tkinter\\__init__.py\", line 1699, in __call__\n",
      "    return self.func(*args)\n",
      "  File \"<ipython-input-21-2ad27ab2b4d9>\", line 10, in draf\n",
      "    a [event.y,event.x] = 1.0\n",
      "IndexError: index 90 is out of bounds for axis 1 with size 90\n",
      "Exception in Tkinter callback\n",
      "Traceback (most recent call last):\n",
      "  File \"c:\\users\\user\\appdata\\local\\programs\\python\\python36\\lib\\tkinter\\__init__.py\", line 1699, in __call__\n",
      "    return self.func(*args)\n",
      "  File \"<ipython-input-21-2ad27ab2b4d9>\", line 10, in draf\n",
      "    a [event.y,event.x] = 1.0\n",
      "IndexError: index 90 is out of bounds for axis 1 with size 90\n",
      "Exception in Tkinter callback\n",
      "Traceback (most recent call last):\n",
      "  File \"c:\\users\\user\\appdata\\local\\programs\\python\\python36\\lib\\tkinter\\__init__.py\", line 1699, in __call__\n",
      "    return self.func(*args)\n",
      "  File \"<ipython-input-21-2ad27ab2b4d9>\", line 10, in draf\n",
      "    a [event.y,event.x] = 1.0\n",
      "IndexError: index 90 is out of bounds for axis 1 with size 90\n",
      "Exception in Tkinter callback\n",
      "Traceback (most recent call last):\n",
      "  File \"c:\\users\\user\\appdata\\local\\programs\\python\\python36\\lib\\tkinter\\__init__.py\", line 1699, in __call__\n",
      "    return self.func(*args)\n",
      "  File \"<ipython-input-21-2ad27ab2b4d9>\", line 10, in draf\n",
      "    a [event.y,event.x] = 1.0\n",
      "IndexError: index 90 is out of bounds for axis 1 with size 90\n",
      "Exception in Tkinter callback\n",
      "Traceback (most recent call last):\n",
      "  File \"c:\\users\\user\\appdata\\local\\programs\\python\\python36\\lib\\tkinter\\__init__.py\", line 1699, in __call__\n",
      "    return self.func(*args)\n",
      "  File \"<ipython-input-21-2ad27ab2b4d9>\", line 10, in draf\n",
      "    a [event.y,event.x] = 1.0\n",
      "IndexError: index 90 is out of bounds for axis 1 with size 90\n"
     ]
    }
   ],
   "source": [
    "\n",
    "a = np.zeros ((height,width))\n",
    "root = tkinter.Tk()\n",
    "canvas = tkinter.Canvas(root, width = width, height = height)\n",
    "canvas.pack()\n",
    "\n",
    "def draf (event):\n",
    "    canvas.create_oval(event.x, event.y, event.x, event.y)\n",
    "    \n",
    "    a [event.y,event.x] = 1.0\n",
    "    \n",
    "    \n",
    "    \n",
    "canvas.bind('<B1-Motion>',draf)\n",
    "\n",
    "\n",
    "root.title(\"Hello, SQL.ru\")\n",
    "root.mainloop()"
   ]
  },
  {
   "cell_type": "code",
   "execution_count": 22,
   "metadata": {},
   "outputs": [],
   "source": [
    "\n",
    "b = a.reshape(1,(width*height))\n",
    "x = tf.constant(b ,name='input' )\n",
    "output = tf.reduce_sum(tf.multiply(w, x))\n",
    "predict = tf.sigmoid(output)"
   ]
  },
  {
   "cell_type": "code",
   "execution_count": 23,
   "metadata": {},
   "outputs": [
    {
     "name": "stdout",
     "output_type": "stream",
     "text": [
      "Это-же буква Б!, с коэффициентом 0.3929758514734052, и вероятностью 60.70241485265948 % \n"
     ]
    }
   ],
   "source": [
    "if sess.run (predict) >= 0.5:\n",
    "    \n",
    "    print ('Это-же буква А!, с коэффициентом {}, и вероятностью {} % '.format(sess.run(predict),sess.run(predict*100)))\n",
    "else:\n",
    "        \n",
    "\n",
    "    print ('Это-же буква Б!, с коэффициентом {}, и вероятностью {} % '.format(sess.run(predict),sess.run(100 - predict*100)))\n",
    "    \n",
    "\n",
    "    "
   ]
  },
  {
   "cell_type": "code",
   "execution_count": 18,
   "metadata": {},
   "outputs": [],
   "source": [
    "\n",
    "k = 'а'\n",
    "if k == 'а' or k == 'А':\n",
    "    y_ = 1.0\n",
    "else :\n",
    "    y_ = 0.0\n",
    "loss = tf.pow(predict - y_,2)\n",
    "epoch = 200\n",
    "step = tf.train.GradientDescentOptimizer(1.0).minimize(loss)"
   ]
  },
  {
   "cell_type": "code",
   "execution_count": 19,
   "metadata": {},
   "outputs": [
    {
     "data": {
      "text/plain": [
       "0.99999999976702592"
      ]
     },
     "execution_count": 19,
     "metadata": {},
     "output_type": "execute_result"
    }
   ],
   "source": [
    "for i in range(epoch):\n",
    "    sess.run(step)\n",
    "\n",
    "sess.run(predict)\n",
    "    "
   ]
  },
  {
   "cell_type": "code",
   "execution_count": 20,
   "metadata": {},
   "outputs": [
    {
     "data": {
      "text/plain": [
       "array([[-0.00987343, -0.02099736, -0.01723319, ..., -0.00849466,\n",
       "         0.0142799 , -0.02074145]])"
      ]
     },
     "execution_count": 20,
     "metadata": {},
     "output_type": "execute_result"
    }
   ],
   "source": [
    "sess.run(w)"
   ]
  },
  {
   "cell_type": "code",
   "execution_count": null,
   "metadata": {},
   "outputs": [],
   "source": []
  }
 ],
 "metadata": {
  "kernelspec": {
   "display_name": "Python 3",
   "language": "python",
   "name": "python3"
  },
  "language_info": {
   "codemirror_mode": {
    "name": "ipython",
    "version": 3
   },
   "file_extension": ".py",
   "mimetype": "text/x-python",
   "name": "python",
   "nbconvert_exporter": "python",
   "pygments_lexer": "ipython3",
   "version": "3.6.3"
  }
 },
 "nbformat": 4,
 "nbformat_minor": 2
}
