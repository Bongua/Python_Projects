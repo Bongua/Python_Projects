{
 "cells": [
  {
   "cell_type": "code",
   "execution_count": 1,
   "metadata": {},
   "outputs": [],
   "source": [
    "import tensorflow as tf\n",
    "import sys\n"
   ]
  },
  {
   "cell_type": "code",
   "execution_count": 2,
   "metadata": {},
   "outputs": [],
   "source": [
    "train = [\n",
    "    ([0.0, 0.0, 0.0], 0.0),\n",
    "    ([0.0, 0.0, 1.0], 1.0),\n",
    "    ([0.0, 1.0, 0.0], 0.0),\n",
    "    ([0.0, 1.0, 1.0], 0.0),\n",
    "    ([1.0, 0.0, 0.0], 1.0),\n",
    "    ([1.0, 0.0, 1.0], 1.0),\n",
    "    ([1.0, 1.0, 0.0], 0.0),\n",
    "    ([1.0, 1.0, 1.0], 0.0),\n",
    "   \n",
    "    \n",
    "    \n",
    "]"
   ]
  },
  {
   "cell_type": "code",
   "execution_count": 3,
   "metadata": {},
   "outputs": [],
   "source": [
    "sess = tf.Session()\n",
    "epoch = 20000\n",
    "\n",
    "\n",
    "w = tf.get_variable(\"my_variable\", [2,3], dtype=tf.float32, initializer=tf.glorot_uniform_initializer(\n",
    "    seed=None,\n",
    "    dtype=tf.float32\n",
    "))\n",
    "\n",
    "\n",
    "\n",
    "w_2 = tf.get_variable(\"my_variable_2\", [1,2], dtype=tf.float32, initializer=tf.glorot_uniform_initializer(\n",
    "    seed=None,\n",
    "    dtype=tf.float32\n",
    "))\n",
    "\n",
    "sess.run (tf.global_variables_initializer())\n",
    "\n",
    "\n",
    "\n",
    "\n",
    "    \n",
    "\n",
    "\n",
    "\n",
    "\n",
    "        \n",
    "    \n"
   ]
  },
  {
   "cell_type": "code",
   "execution_count": 6,
   "metadata": {},
   "outputs": [],
   "source": [
    "\n",
    "for inputs, correct in train:\n",
    "    \n",
    "    x = tf.constant(inputs ,name='input' )\n",
    "    y_ = tf.constant (correct, name='correct_answer')\n",
    "    y = tf.reduce_sum(tf.multiply(w, x),axis=1)\n",
    "    itog_hiden = tf.sigmoid(y)\n",
    "        \n",
    "        \n",
    "    itog_output = tf.reduce_sum(tf.multiply(w_2,itog_hiden))\n",
    "    predict = tf.sigmoid(itog_output)\n",
    "    loss = tf.pow(predict - y_,2)\n",
    "    \n",
    "    step = tf.train.GradientDescentOptimizer(0.1).minimize(loss)\n",
    "    for i in range (epoch): \n",
    "          \n",
    "        sess.run (step)\n",
    "        \n",
    "\n",
    "\n",
    "        \n",
    "    \n",
    "        \n",
    "    \n",
    "    \n",
    "    "
   ]
  },
  {
   "cell_type": "code",
   "execution_count": 9,
   "metadata": {},
   "outputs": [
    {
     "name": "stdout",
     "output_type": "stream",
     "text": [
      "for inputs [0.0, 0.0, 0.0] expented : 0.07393669337034225 actual 0.0\n",
      "for inputs [0.0, 0.0, 1.0] expented : 0.45958855748176575 actual 1.0\n",
      "for inputs [0.0, 1.0, 0.0] expented : 0.0004719749849755317 actual 0.0\n",
      "for inputs [0.0, 1.0, 1.0] expented : 0.00037141572101972997 actual 0.0\n",
      "for inputs [1.0, 0.0, 0.0] expented : 0.9054892063140869 actual 1.0\n",
      "for inputs [1.0, 0.0, 1.0] expented : 0.8863926529884338 actual 1.0\n",
      "for inputs [1.0, 1.0, 0.0] expented : 0.0049822647124528885 actual 0.0\n",
      "for inputs [1.0, 1.0, 1.0] expented : 0.0037833002861589193 actual 0.0\n"
     ]
    }
   ],
   "source": [
    "for inputs, correct in train:\n",
    "    \n",
    "    x = tf.constant(inputs ,name='input' )\n",
    "\n",
    "        \n",
    "    y = tf.reduce_sum(tf.multiply(w, x),axis=1)\n",
    "    itog_hiden = tf.sigmoid(y)\n",
    "        \n",
    "        \n",
    "    itog_output = tf.reduce_sum(tf.multiply(w_2,itog_hiden))\n",
    "    predict = tf.sigmoid(itog_output)\n",
    "    print ('for inputs {} expented : {} actual {}'.format (inputs,sess.run(predict),correct))"
   ]
  },
  {
   "cell_type": "code",
   "execution_count": 7,
   "metadata": {},
   "outputs": [
    {
     "name": "stdout",
     "output_type": "stream",
     "text": [
      "[[-2.270081   6.877352  -3.2895944]\n",
      " [ 3.8544967 -1.7040707 -3.1198711]]\n"
     ]
    }
   ],
   "source": [
    "print (sess.run(w))"
   ]
  },
  {
   "cell_type": "code",
   "execution_count": 8,
   "metadata": {},
   "outputs": [
    {
     "name": "stdout",
     "output_type": "stream",
     "text": [
      "[[-8.141552   3.0860856]]\n"
     ]
    }
   ],
   "source": [
    "print (sess.run(w_2))"
   ]
  },
  {
   "cell_type": "code",
   "execution_count": null,
   "metadata": {},
   "outputs": [],
   "source": []
  }
 ],
 "metadata": {
  "kernelspec": {
   "display_name": "Python 3",
   "language": "python",
   "name": "python3"
  },
  "language_info": {
   "codemirror_mode": {
    "name": "ipython",
    "version": 3
   },
   "file_extension": ".py",
   "mimetype": "text/x-python",
   "name": "python",
   "nbconvert_exporter": "python",
   "pygments_lexer": "ipython3",
   "version": "3.6.3"
  }
 },
 "nbformat": 4,
 "nbformat_minor": 2
}
